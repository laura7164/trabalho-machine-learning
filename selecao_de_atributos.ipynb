{
  "nbformat": 4,
  "nbformat_minor": 0,
  "metadata": {
    "colab": {
      "provenance": []
    },
    "kernelspec": {
      "name": "python3",
      "display_name": "Python 3"
    },
    "language_info": {
      "name": "python"
    }
  },
  "cells": [
    {
      "cell_type": "code",
      "execution_count": null,
      "metadata": {
        "id": "XOi-Itn81Eim"
      },
      "outputs": [],
      "source": [
        "from sklearn.model_selection import train_test_split\n",
        "from sklearn.feature_selection import SelectKBest, f_classif\n",
        "from sklearn.ensemble import RandomForestClassifier\n",
        "from sklearn.tree import DecisionTreeClassifier\n",
        "from sklearn.metrics import accuracy_score, confusion_matrix, f1_score"
      ]
    },
    {
      "cell_type": "code",
      "execution_count": null,
      "metadata": {
        "colab": {
          "base_uri": "https://localhost:8080/"
        },
        "id": "o_hf6KAFbaGO",
        "outputId": "61395927-59de-4dd1-f5d6-20c50b279224"
      },
      "outputs": [
        {
          "output_type": "stream",
          "name": "stdout",
          "text": [
            "<class 'pandas.core.frame.DataFrame'>\n",
            "RangeIndex: 1759 entries, 0 to 1758\n",
            "Data columns (total 31 columns):\n",
            " #   Column  Non-Null Count  Dtype  \n",
            "---  ------  --------------  -----  \n",
            " 0   Time    1759 non-null   float64\n",
            " 1   V1      1759 non-null   float64\n",
            " 2   V2      1759 non-null   float64\n",
            " 3   V3      1759 non-null   float64\n",
            " 4   V4      1759 non-null   float64\n",
            " 5   V5      1759 non-null   float64\n",
            " 6   V6      1759 non-null   float64\n",
            " 7   V7      1759 non-null   float64\n",
            " 8   V8      1759 non-null   float64\n",
            " 9   V9      1759 non-null   float64\n",
            " 10  V10     1759 non-null   float64\n",
            " 11  V11     1759 non-null   float64\n",
            " 12  V12     1759 non-null   float64\n",
            " 13  V13     1759 non-null   float64\n",
            " 14  V14     1759 non-null   float64\n",
            " 15  V15     1759 non-null   float64\n",
            " 16  V16     1759 non-null   float64\n",
            " 17  V17     1759 non-null   float64\n",
            " 18  V18     1759 non-null   float64\n",
            " 19  V19     1759 non-null   float64\n",
            " 20  V20     1759 non-null   float64\n",
            " 21  V21     1759 non-null   float64\n",
            " 22  V22     1759 non-null   float64\n",
            " 23  V23     1759 non-null   float64\n",
            " 24  V24     1759 non-null   float64\n",
            " 25  V25     1759 non-null   float64\n",
            " 26  V26     1759 non-null   float64\n",
            " 27  V27     1759 non-null   float64\n",
            " 28  V28     1759 non-null   float64\n",
            " 29  Amount  1759 non-null   float64\n",
            " 30  Class   1759 non-null   int64  \n",
            "dtypes: float64(30), int64(1)\n",
            "memory usage: 426.1 KB\n",
            "None\n",
            "                Time           V1           V2           V3           V4  \\\n",
            "count    1759.000000  1759.000000  1759.000000  1759.000000  1759.000000   \n",
            "mean    90968.213189    -1.300042     1.011976    -1.979936     1.237008   \n",
            "std     48000.657601     4.450913     3.060211     5.046962     2.801042   \n",
            "min        56.000000   -30.552380   -12.392746   -31.103685    -4.519509   \n",
            "25%     49482.500000    -1.585522    -0.394558    -2.275449    -0.611237   \n",
            "50%     83561.000000    -0.387391     0.400819    -0.450987     0.454212   \n",
            "75%    137155.500000     1.197499     1.507860     0.685897     2.293580   \n",
            "max    172619.000000     2.370007    22.057729     3.770236    12.114672   \n",
            "\n",
            "                V5           V6           V7           V8           V9  ...  \\\n",
            "count  1759.000000  1759.000000  1759.000000  1759.000000  1759.000000  ...   \n",
            "mean     -0.836377    -0.406208    -1.556829     0.162517    -0.709111  ...   \n",
            "std       3.354054     1.614573     4.629809     3.701163     1.988589  ...   \n",
            "min     -22.105532    -6.808191   -43.557242   -41.044261   -13.434066  ...   \n",
            "25%      -1.130627    -1.136650    -1.223478    -0.223247    -1.320096  ...   \n",
            "50%      -0.185422    -0.446751    -0.180712     0.090370    -0.279204  ...   \n",
            "75%       0.589259     0.224712     0.459345     0.546183     0.393808  ...   \n",
            "max      11.095089     6.474115     5.802537    20.007208     6.474148  ...   \n",
            "\n",
            "               V21          V22          V23          V24          V25  \\\n",
            "count  1759.000000  1759.000000  1759.000000  1759.000000  1759.000000   \n",
            "mean      0.213478     0.006281    -0.017585    -0.021742     0.008976   \n",
            "std       2.149304     0.991460     0.912316     0.589620     0.606305   \n",
            "min     -22.797604    -8.887017   -19.254328    -2.836627    -4.781606   \n",
            "25%      -0.201985    -0.540838    -0.203821    -0.379386    -0.329844   \n",
            "50%       0.049847     0.029265    -0.029770     0.029764     0.040871   \n",
            "75%       0.374583     0.547608     0.162173     0.409063     0.372883   \n",
            "max      27.202839     8.361985     6.008724     1.237921     2.208209   \n",
            "\n",
            "               V26          V27          V28       Amount        Class  \n",
            "count  1759.000000  1759.000000  1759.000000  1759.000000  1759.000000  \n",
            "mean      0.013362     0.049539     0.022652    92.537862     0.279704  \n",
            "std       0.476053     0.796379     0.353280   203.748943     0.448982  \n",
            "min      -1.178778    -7.263482    -2.085364     0.000000     0.000000  \n",
            "25%      -0.308789    -0.062821    -0.054500     2.435000     0.000000  \n",
            "50%      -0.026657     0.022984     0.020628    18.960000     0.000000  \n",
            "75%       0.291500     0.242383     0.134781    89.995000     1.000000  \n",
            "max       2.745261     3.052358     2.757799  2125.870000     1.000000  \n",
            "\n",
            "[8 rows x 31 columns]\n"
          ]
        }
      ],
      "source": [
        "import pandas as pd\n",
        "\n",
        "# carregando o dataset\n",
        "df = pd.read_csv('/content/creditcard.csv')\n",
        "\n",
        "# informações básicas sobre o dataset\n",
        "print(df.info())\n",
        "print(df.describe())"
      ]
    },
    {
      "cell_type": "code",
      "source": [
        "# definindo as variáveis independentes (X) e a variável dependente (y)\n",
        "X = df.drop('Class', axis=1)  # 'Class' é a coluna de fraudes (1 para fraude, 0 para normal)\n",
        "y = df['Class']\n",
        "# obs: quando você usa axis=1 em uma função do pandas, está dizendo à função para realizar a operação\n",
        "# ao longo de todas as colunas\n",
        "\n",
        "# dividindo em conjuntos de treino e teste\n",
        "X_train, X_test, y_train, y_test = train_test_split(X, y, test_size=0.2, random_state=42)\n",
        "\n",
        "# treinando e avaliando o modelo com todos os atributos\n",
        "clf = DecisionTreeClassifier(random_state=1)\n",
        "clf.fit(X_train, y_train)\n",
        "y_pred_all = clf.predict(X_test)\n",
        "\n",
        "print(\"Desempenho com todos os atributos:\")\n",
        "print(\"Acurácia:\", accuracy_score(y_test, y_pred_all))\n",
        "print(\"Matriz de Confusão:\")\n",
        "print(confusion_matrix(y_test, y_pred_all))\n",
        "print(\"F1 Score:\", f1_score(y_test, y_pred_all))"
      ],
      "metadata": {
        "id": "-AMtFxr-5J59",
        "colab": {
          "base_uri": "https://localhost:8080/"
        },
        "outputId": "ef91e095-c244-458e-db3e-e73bd72d4c94"
      },
      "execution_count": null,
      "outputs": [
        {
          "output_type": "stream",
          "name": "stdout",
          "text": [
            "Desempenho com todos os atributos:\n",
            "Acurácia: 0.9261363636363636\n",
            "Matriz de Confusão:\n",
            "[[245  12]\n",
            " [ 14  81]]\n",
            "F1 Score: 0.8617021276595744\n"
          ]
        }
      ]
    },
    {
      "cell_type": "code",
      "source": [
        "# selecionando os 10 melhores atributos com base no teste F\n",
        "selector = SelectKBest(score_func=f_classif, k=10)\n",
        "X_train_selected = selector.fit_transform(X_train, y_train)\n",
        "X_test_selected = selector.transform(X_test)\n",
        "\n",
        "# exibindo as pontuações de cada atributo\n",
        "scores = selector.scores_\n",
        "feature_scores = list(zip(X.columns, scores))\n",
        "feature_scores.sort(key=lambda x: x[1], reverse=True)  # ordenando atributos por relevância\n",
        "\n",
        "print(\"Pontuação dos atributos:\")\n",
        "for feature, score in feature_scores:\n",
        "    print(f\"{feature}: {score}\")"
      ],
      "metadata": {
        "colab": {
          "base_uri": "https://localhost:8080/"
        },
        "id": "CYX_46lkM_NC",
        "outputId": "c2ae6b1b-da42-4b22-8a54-2a644d1287d3"
      },
      "execution_count": null,
      "outputs": [
        {
          "output_type": "stream",
          "name": "stdout",
          "text": [
            "Pontuação dos atributos:\n",
            "V14: 2424.874146944827\n",
            "V4: 1694.3821010262113\n",
            "V12: 1686.9897304713375\n",
            "V11: 1592.9385105728825\n",
            "V10: 1245.454696748403\n",
            "V16: 1093.1475442266735\n",
            "V17: 926.329126679115\n",
            "V3: 906.4432298846186\n",
            "V9: 763.8771596496724\n",
            "V7: 582.3131338867894\n",
            "V2: 566.1147697046804\n",
            "V18: 493.88282170262863\n",
            "V1: 443.05962704144423\n",
            "V5: 324.09772144612026\n",
            "V6: 249.63736301655103\n",
            "V19: 132.3837490534975\n",
            "V20: 47.32534624541176\n",
            "Time: 29.45374793781783\n",
            "V21: 25.03460964648798\n",
            "V24: 14.671724282985403\n",
            "V28: 11.493520129184155\n",
            "Amount: 11.022058645248393\n",
            "V8: 9.787945477355713\n",
            "V13: 4.624470404269658\n",
            "V27: 4.363139389716825\n",
            "V26: 3.8122732667927015\n",
            "V15: 2.722042065975952\n",
            "V23: 2.098391149238729\n",
            "V22: 1.2781322808060873\n",
            "V25: 1.1211265327114976\n"
          ]
        }
      ]
    },
    {
      "cell_type": "code",
      "source": [
        "# escolhendo os melhores atributos para o modelo\n",
        "# exemplo: vamos manter os 10 atributos mais relevantes\n",
        "selected_features = [feature for feature, score in feature_scores[:10]]\n",
        "X_train_top = X_train[selected_features]\n",
        "X_test_top = X_test[selected_features]\n",
        "\n",
        "# treinando e avaliando o modelo com os atributos selecionados\n",
        "clf = DecisionTreeClassifier(random_state=1)\n",
        "clf.fit(X_train_top, y_train)\n",
        "y_pred_selected = clf.predict(X_test_top)\n",
        "\n",
        "print(\"\\nDesempenho com atributos selecionados:\")\n",
        "print(\"Acurácia:\", accuracy_score(y_test, y_pred_selected))\n",
        "print(\"Matriz de Confusão:\")\n",
        "print(confusion_matrix(y_test, y_pred_selected))\n",
        "print(\"F1 Score:\", f1_score(y_test, y_pred_selected))"
      ],
      "metadata": {
        "colab": {
          "base_uri": "https://localhost:8080/"
        },
        "id": "vhIDnWL4RtmT",
        "outputId": "fafb663a-5dbd-4924-e310-375ba5e2b1c7"
      },
      "execution_count": null,
      "outputs": [
        {
          "output_type": "stream",
          "name": "stdout",
          "text": [
            "\n",
            "Desempenho com atributos selecionados:\n",
            "Acurácia: 0.9090909090909091\n",
            "Matriz de Confusão:\n",
            "[[239  18]\n",
            " [ 14  81]]\n",
            "F1 Score: 0.8350515463917526\n"
          ]
        }
      ]
    }
  ]
}