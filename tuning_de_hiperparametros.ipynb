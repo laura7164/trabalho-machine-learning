{
  "nbformat": 4,
  "nbformat_minor": 0,
  "metadata": {
    "colab": {
      "provenance": []
    },
    "kernelspec": {
      "name": "python3",
      "display_name": "Python 3"
    },
    "language_info": {
      "name": "python"
    }
  },
  "cells": [
    {
      "cell_type": "code",
      "execution_count": null,
      "metadata": {
        "id": "9OHRun8_cOcI"
      },
      "outputs": [],
      "source": [
        "from sklearn.model_selection import train_test_split, GridSearchCV\n",
        "from sklearn.tree import DecisionTreeClassifier\n",
        "from sklearn.metrics import accuracy_score, confusion_matrix, f1_score\n",
        "from sklearn.feature_selection import SelectKBest, f_classif"
      ]
    },
    {
      "cell_type": "code",
      "source": [
        "import pandas as pd\n",
        "\n",
        "# carregando o dataset\n",
        "df = pd.read_csv('/content/creditcard.csv')\n",
        "\n",
        "# informações básicas sobre o dataset\n",
        "print(df.info())\n",
        "print(df.describe())"
      ],
      "metadata": {
        "colab": {
          "base_uri": "https://localhost:8080/"
        },
        "id": "2nIc3T-WcUtz",
        "outputId": "1cc10138-9e87-42a9-c8de-f3e82cee2b78"
      },
      "execution_count": null,
      "outputs": [
        {
          "output_type": "stream",
          "name": "stdout",
          "text": [
            "<class 'pandas.core.frame.DataFrame'>\n",
            "RangeIndex: 1759 entries, 0 to 1758\n",
            "Data columns (total 31 columns):\n",
            " #   Column  Non-Null Count  Dtype  \n",
            "---  ------  --------------  -----  \n",
            " 0   Time    1759 non-null   float64\n",
            " 1   V1      1759 non-null   float64\n",
            " 2   V2      1759 non-null   float64\n",
            " 3   V3      1759 non-null   float64\n",
            " 4   V4      1759 non-null   float64\n",
            " 5   V5      1759 non-null   float64\n",
            " 6   V6      1759 non-null   float64\n",
            " 7   V7      1759 non-null   float64\n",
            " 8   V8      1759 non-null   float64\n",
            " 9   V9      1759 non-null   float64\n",
            " 10  V10     1759 non-null   float64\n",
            " 11  V11     1759 non-null   float64\n",
            " 12  V12     1759 non-null   float64\n",
            " 13  V13     1759 non-null   float64\n",
            " 14  V14     1759 non-null   float64\n",
            " 15  V15     1759 non-null   float64\n",
            " 16  V16     1759 non-null   float64\n",
            " 17  V17     1759 non-null   float64\n",
            " 18  V18     1759 non-null   float64\n",
            " 19  V19     1759 non-null   float64\n",
            " 20  V20     1759 non-null   float64\n",
            " 21  V21     1759 non-null   float64\n",
            " 22  V22     1759 non-null   float64\n",
            " 23  V23     1759 non-null   float64\n",
            " 24  V24     1759 non-null   float64\n",
            " 25  V25     1759 non-null   float64\n",
            " 26  V26     1759 non-null   float64\n",
            " 27  V27     1759 non-null   float64\n",
            " 28  V28     1759 non-null   float64\n",
            " 29  Amount  1759 non-null   float64\n",
            " 30  Class   1759 non-null   int64  \n",
            "dtypes: float64(30), int64(1)\n",
            "memory usage: 426.1 KB\n",
            "None\n",
            "                Time           V1           V2           V3           V4  \\\n",
            "count    1759.000000  1759.000000  1759.000000  1759.000000  1759.000000   \n",
            "mean    90968.213189    -1.300042     1.011976    -1.979936     1.237008   \n",
            "std     48000.657601     4.450913     3.060211     5.046962     2.801042   \n",
            "min        56.000000   -30.552380   -12.392746   -31.103685    -4.519509   \n",
            "25%     49482.500000    -1.585522    -0.394558    -2.275449    -0.611237   \n",
            "50%     83561.000000    -0.387391     0.400819    -0.450987     0.454212   \n",
            "75%    137155.500000     1.197499     1.507860     0.685897     2.293580   \n",
            "max    172619.000000     2.370007    22.057729     3.770236    12.114672   \n",
            "\n",
            "                V5           V6           V7           V8           V9  ...  \\\n",
            "count  1759.000000  1759.000000  1759.000000  1759.000000  1759.000000  ...   \n",
            "mean     -0.836377    -0.406208    -1.556829     0.162517    -0.709111  ...   \n",
            "std       3.354054     1.614573     4.629809     3.701163     1.988589  ...   \n",
            "min     -22.105532    -6.808191   -43.557242   -41.044261   -13.434066  ...   \n",
            "25%      -1.130627    -1.136650    -1.223478    -0.223247    -1.320096  ...   \n",
            "50%      -0.185422    -0.446751    -0.180712     0.090370    -0.279204  ...   \n",
            "75%       0.589259     0.224712     0.459345     0.546183     0.393808  ...   \n",
            "max      11.095089     6.474115     5.802537    20.007208     6.474148  ...   \n",
            "\n",
            "               V21          V22          V23          V24          V25  \\\n",
            "count  1759.000000  1759.000000  1759.000000  1759.000000  1759.000000   \n",
            "mean      0.213478     0.006281    -0.017585    -0.021742     0.008976   \n",
            "std       2.149304     0.991460     0.912316     0.589620     0.606305   \n",
            "min     -22.797604    -8.887017   -19.254328    -2.836627    -4.781606   \n",
            "25%      -0.201985    -0.540838    -0.203821    -0.379386    -0.329844   \n",
            "50%       0.049847     0.029265    -0.029770     0.029764     0.040871   \n",
            "75%       0.374583     0.547608     0.162173     0.409063     0.372883   \n",
            "max      27.202839     8.361985     6.008724     1.237921     2.208209   \n",
            "\n",
            "               V26          V27          V28       Amount        Class  \n",
            "count  1759.000000  1759.000000  1759.000000  1759.000000  1759.000000  \n",
            "mean      0.013362     0.049539     0.022652    92.537862     0.279704  \n",
            "std       0.476053     0.796379     0.353280   203.748943     0.448982  \n",
            "min      -1.178778    -7.263482    -2.085364     0.000000     0.000000  \n",
            "25%      -0.308789    -0.062821    -0.054500     2.435000     0.000000  \n",
            "50%      -0.026657     0.022984     0.020628    18.960000     0.000000  \n",
            "75%       0.291500     0.242383     0.134781    89.995000     1.000000  \n",
            "max       2.745261     3.052358     2.757799  2125.870000     1.000000  \n",
            "\n",
            "[8 rows x 31 columns]\n"
          ]
        }
      ]
    },
    {
      "cell_type": "code",
      "source": [
        "# definindo as variáveis independentes (X) e a variável dependente (y)\n",
        "X = df.drop(columns='Class')  # supondo que 'Class' seja a coluna de transação fraudulenta (1 para fraude, 0 para normal)\n",
        "y = df['Class']\n",
        "\n",
        "# dividindo o dataset em conjuntos de treino e teste\n",
        "X_train, X_test, y_train, y_test = train_test_split(X, y, random_state=1)\n",
        "\n",
        "# treinando e avaliando o modelo com todos os atributos\n",
        "clf = DecisionTreeClassifier(random_state=1)\n",
        "clf.fit(X_train, y_train)\n",
        "y_pred_all = clf.predict(X_test)\n",
        "\n",
        "print(\"Desempenho com todos os atributos:\")\n",
        "print(\"Acurácia:\", accuracy_score(y_test, y_pred_all))\n",
        "print(\"Matriz de Confusão:\")\n",
        "print(confusion_matrix(y_test, y_pred_all))\n",
        "print(\"F1 Score:\", f1_score(y_test, y_pred_all))"
      ],
      "metadata": {
        "colab": {
          "base_uri": "https://localhost:8080/"
        },
        "id": "IKZKMdyAcd2t",
        "outputId": "8b6e7d06-041c-4d4b-95a5-88990256d1d1"
      },
      "execution_count": null,
      "outputs": [
        {
          "output_type": "stream",
          "name": "stdout",
          "text": [
            "Desempenho com todos os atributos:\n",
            "Acurácia: 0.9113636363636364\n",
            "Matriz de Confusão:\n",
            "[[298  16]\n",
            " [ 23 103]]\n",
            "F1 Score: 0.8408163265306122\n"
          ]
        }
      ]
    },
    {
      "cell_type": "code",
      "source": [
        "# seleção de atributos com SelectKBest\n",
        "selector = SelectKBest(f_classif, k=10)  # selecionando os 10 atributos mais relevantes\n",
        "X_train_selected = selector.fit_transform(X_train, y_train)\n",
        "X_test_selected = selector.transform(X_test)\n",
        "\n",
        "# treinando e avaliando o modelo com os atributos selecionados antes do tuning\n",
        "clf = DecisionTreeClassifier(random_state=1)\n",
        "clf.fit(X_train_selected, y_train)\n",
        "y_pred_selected = clf.predict(X_test_selected)\n",
        "\n",
        "print(\"\\nDesempenho com atributos selecionados (antes do tuning):\")\n",
        "print(\"Acurácia:\", accuracy_score(y_test, y_pred_selected))\n",
        "print(\"Matriz de Confusão:\")\n",
        "print(confusion_matrix(y_test, y_pred_selected))\n",
        "print(\"F1 Score:\", f1_score(y_test, y_pred_selected))"
      ],
      "metadata": {
        "colab": {
          "base_uri": "https://localhost:8080/"
        },
        "id": "ax1sorV7c9vn",
        "outputId": "6dd190e1-83e1-4d92-eaaf-589773d77d86"
      },
      "execution_count": null,
      "outputs": [
        {
          "output_type": "stream",
          "name": "stdout",
          "text": [
            "\n",
            "Desempenho com atributos selecionados (antes do tuning):\n",
            "Acurácia: 0.9318181818181818\n",
            "Matriz de Confusão:\n",
            "[[306   8]\n",
            " [ 22 104]]\n",
            "F1 Score: 0.8739495798319328\n"
          ]
        }
      ]
    },
    {
      "cell_type": "code",
      "source": [
        "# tuning de hiperparâmetros com GridSearchCV\n",
        "# definindo o espaço de hiperparâmetros para a árvore de decisão\n",
        "param_grid = {\n",
        "    'max_depth': [None, 10, 20, 30, 40, 50],\n",
        "    'min_samples_split': [2, 5, 10, 15],\n",
        "    'min_samples_leaf': [1, 2, 5, 10]\n",
        "}\n",
        "\n",
        "# usando GridSearchCV para encontrar os melhores hiperparâmetros\n",
        "grid_search = GridSearchCV(\n",
        "    estimator=DecisionTreeClassifier(random_state=1),\n",
        "    param_grid=param_grid,\n",
        "    scoring='accuracy',\n",
        "    cv=5,\n",
        "    n_jobs=-1\n",
        ")\n",
        "\n",
        "# realizando a busca com os dados de treino (usando atributos selecionados)\n",
        "grid_search.fit(X_train_selected, y_train)\n",
        "\n",
        "# exibindo os melhores hiperparâmetros encontrados\n",
        "print(\"\\nMelhores hiperparâmetros:\", grid_search.best_params_)\n",
        "\n",
        "# treinando o modelo com os melhores hiperparâmetros\n",
        "best_clf = grid_search.best_estimator_\n",
        "best_clf.fit(X_train_selected, y_train)\n",
        "y_pred_tuned = best_clf.predict(X_test_selected)\n",
        "\n",
        "# avaliando o modelo ajustado\n",
        "print(\"\\nDesempenho com atributos selecionados e hiperparâmetros otimizados:\")\n",
        "print(\"Acurácia:\", accuracy_score(y_test, y_pred_tuned))\n",
        "print(\"Matriz de Confusão:\")\n",
        "print(confusion_matrix(y_test, y_pred_tuned))\n",
        "print(\"F1 Score:\", f1_score(y_test, y_pred_selected))"
      ],
      "metadata": {
        "colab": {
          "base_uri": "https://localhost:8080/"
        },
        "id": "cGEcBCjxdObK",
        "outputId": "dab5d8af-43d1-4d6b-fa4a-5dc9c54495d3"
      },
      "execution_count": null,
      "outputs": [
        {
          "output_type": "stream",
          "name": "stdout",
          "text": [
            "\n",
            "Melhores hiperparâmetros: {'max_depth': 10, 'min_samples_leaf': 1, 'min_samples_split': 10}\n",
            "\n",
            "Desempenho com atributos selecionados e hiperparâmetros otimizados:\n",
            "Acurácia: 0.9386363636363636\n",
            "Matriz de Confusão:\n",
            "[[308   6]\n",
            " [ 21 105]]\n",
            "F1 Score: 0.8739495798319328\n"
          ]
        }
      ]
    }
  ]
}